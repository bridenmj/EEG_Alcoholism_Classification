{
 "cells": [
  {
   "cell_type": "code",
   "execution_count": 1,
   "metadata": {},
   "outputs": [],
   "source": [
    "import os, shutil\n",
    "import numpy as np"
   ]
  },
  {
   "cell_type": "code",
   "execution_count": 2,
   "metadata": {},
   "outputs": [],
   "source": [
    "#create the images. then make a root folder with all control images and another with all alcoholic images\n",
    "#source: https://deepsense.ai/keras-vs-pytorch-avp-transfer-learning/ \n",
    "# root\n",
    "#   alcoholic (all s1,s2,s3 imgs)\n",
    "#   control   (all s1,s2,s3 imgs)\n",
    "\n",
    "\n",
    "# Path to the full data directory, not categorised into train/val/test sets or category folders\n",
    "original_dataset_dir = '/Users/mike/Documents/ucsc/cmps240/EEG_classification/EEG_Alcoholism_Classification/Data/images/img_for_training'\n",
    "\n",
    "# The directory where we will store our dataset, divided into train/val/test directories, and further into category directories \n",
    "base_dir = '/Users/mike/Documents/ucsc/cmps240/EEG_classification/EEG_Alcoholism_Classification/Data/images/img_for_training'"
   ]
  },
  {
   "cell_type": "code",
   "execution_count": 3,
   "metadata": {},
   "outputs": [
    {
     "name": "stdout",
     "output_type": "stream",
     "text": [
      "Created directory:  /Users/mike/Documents/ucsc/cmps240/EEG_classification/EEG_Alcoholism_Classification/Data/images/img_for_training/train/alcoholic\n",
      "Created directory:  /Users/mike/Documents/ucsc/cmps240/EEG_classification/EEG_Alcoholism_Classification/Data/images/img_for_training/train/control\n",
      "Created directory:  /Users/mike/Documents/ucsc/cmps240/EEG_classification/EEG_Alcoholism_Classification/Data/images/img_for_training/validation/alcoholic\n",
      "Created directory:  /Users/mike/Documents/ucsc/cmps240/EEG_classification/EEG_Alcoholism_Classification/Data/images/img_for_training/validation/control\n"
     ]
    }
   ],
   "source": [
    "categories = ['alcoholic', 'control']\n",
    "# We want to keep our data organized into train and validation folders, each with separate category subfolders\n",
    "str_train_val = ['train', 'validation']\n",
    "\n",
    "if not os.path.exists(base_dir):\n",
    "    os.mkdir(base_dir)\n",
    "    print('Created directory: ', base_dir)\n",
    "\n",
    "for dir_type in str_train_val:\n",
    "    train_test_val_dir = os.path.join(base_dir, dir_type)\n",
    "\n",
    "    if not os.path.exists(train_test_val_dir):\n",
    "        os.mkdir(train_test_val_dir)\n",
    "\n",
    "    for category in categories:\n",
    "        dir_type_category = os.path.join(train_test_val_dir, category)\n",
    "\n",
    "        if not os.path.exists(dir_type_category):\n",
    "            os.mkdir(dir_type_category)\n",
    "            print('Created directory: ', dir_type_category)"
   ]
  },
  {
   "cell_type": "code",
   "execution_count": 6,
   "metadata": {},
   "outputs": [
    {
     "name": "stdout",
     "output_type": "stream",
     "text": [
      "alcoholic: 300 files\n",
      "alcoholic, train: 200 files copied\n",
      "alcoholic, validation: 100 files copied\n",
      "control: 300 files\n",
      "control, train: 200 files copied\n",
      "control, validation: 100 files copied\n"
     ]
    }
   ],
   "source": [
    "directories_dict = {}  # To store directory paths for data subsets.\n",
    "\n",
    "np.random.seed(12)\n",
    "for cat in categories:\n",
    "    list_of_images = np.array(os.listdir(os.path.join(original_dataset_dir,cat)))\n",
    "    print(\"{}: {} files\".format(cat, len(list_of_images)))\n",
    "    indexes = dict()\n",
    "    indexes['validation'] = sorted(np.random.choice(len(list_of_images), size=100, replace=False))\n",
    "    indexes['train'] = list(set(range(len(list_of_images))) - set(indexes['validation']))\n",
    "    for phase in str_train_val:\n",
    "        for i, fname in enumerate(list_of_images[indexes[phase]]):\n",
    "            source = os.path.join(original_dataset_dir, cat, fname)\n",
    "            destination = os.path.join(base_dir, phase, cat, fname +\".jpg\")\n",
    "            shutil.copyfile(source, destination)\n",
    "        print(\"{}, {}: {} files copied\".format(cat, phase, len(indexes[phase])))\n",
    "        directories_dict[phase + \"_\" + cat + \"_dir\"] = os.path.join(base_dir, phase, cat)"
   ]
  },
  {
   "cell_type": "code",
   "execution_count": 7,
   "metadata": {},
   "outputs": [
    {
     "data": {
      "text/plain": [
       "{'train_alcoholic_dir': '/Users/mike/Documents/ucsc/cmps240/EEG_classification/EEG_Alcoholism_Classification/Data/images/img_for_training/train/alcoholic',\n",
       " 'validation_alcoholic_dir': '/Users/mike/Documents/ucsc/cmps240/EEG_classification/EEG_Alcoholism_Classification/Data/images/img_for_training/validation/alcoholic',\n",
       " 'train_control_dir': '/Users/mike/Documents/ucsc/cmps240/EEG_classification/EEG_Alcoholism_Classification/Data/images/img_for_training/train/control',\n",
       " 'validation_control_dir': '/Users/mike/Documents/ucsc/cmps240/EEG_classification/EEG_Alcoholism_Classification/Data/images/img_for_training/validation/control'}"
      ]
     },
     "execution_count": 7,
     "metadata": {},
     "output_type": "execute_result"
    }
   ],
   "source": [
    "directories_dict"
   ]
  },
  {
   "cell_type": "code",
   "execution_count": 8,
   "metadata": {},
   "outputs": [
    {
     "ename": "KeyError",
     "evalue": "'train_alien_dir'",
     "output_type": "error",
     "traceback": [
      "\u001b[0;31m---------------------------------------------------------------------------\u001b[0m",
      "\u001b[0;31mKeyError\u001b[0m                                  Traceback (most recent call last)",
      "\u001b[0;32m<ipython-input-8-97af19e09645>\u001b[0m in \u001b[0;36m<module>\u001b[0;34m\u001b[0m\n\u001b[0;32m----> 1\u001b[0;31m \u001b[0mprint\u001b[0m\u001b[0;34m(\u001b[0m\u001b[0;34m'Total training alien images:'\u001b[0m\u001b[0;34m,\u001b[0m \u001b[0mlen\u001b[0m\u001b[0;34m(\u001b[0m\u001b[0mos\u001b[0m\u001b[0;34m.\u001b[0m\u001b[0mlistdir\u001b[0m\u001b[0;34m(\u001b[0m\u001b[0mdirectories_dict\u001b[0m\u001b[0;34m[\u001b[0m\u001b[0;34m'train_alien_dir'\u001b[0m\u001b[0;34m]\u001b[0m\u001b[0;34m)\u001b[0m\u001b[0;34m)\u001b[0m\u001b[0;34m)\u001b[0m\u001b[0;34m\u001b[0m\u001b[0m\n\u001b[0m\u001b[1;32m      2\u001b[0m \u001b[0mprint\u001b[0m\u001b[0;34m(\u001b[0m\u001b[0;34m'Total training predator images:'\u001b[0m\u001b[0;34m,\u001b[0m \u001b[0mlen\u001b[0m\u001b[0;34m(\u001b[0m\u001b[0mos\u001b[0m\u001b[0;34m.\u001b[0m\u001b[0mlistdir\u001b[0m\u001b[0;34m(\u001b[0m\u001b[0mdirectories_dict\u001b[0m\u001b[0;34m[\u001b[0m\u001b[0;34m'train_predator_dir'\u001b[0m\u001b[0;34m]\u001b[0m\u001b[0;34m)\u001b[0m\u001b[0;34m)\u001b[0m\u001b[0;34m)\u001b[0m\u001b[0;34m\u001b[0m\u001b[0m\n\u001b[1;32m      3\u001b[0m \u001b[0mprint\u001b[0m\u001b[0;34m(\u001b[0m\u001b[0;34m\"-\"\u001b[0m\u001b[0;34m*\u001b[0m\u001b[0;36m32\u001b[0m\u001b[0;34m)\u001b[0m\u001b[0;34m\u001b[0m\u001b[0m\n\u001b[1;32m      4\u001b[0m \u001b[0mprint\u001b[0m\u001b[0;34m(\u001b[0m\u001b[0;34m'Total validation alien images:'\u001b[0m\u001b[0;34m,\u001b[0m \u001b[0mlen\u001b[0m\u001b[0;34m(\u001b[0m\u001b[0mos\u001b[0m\u001b[0;34m.\u001b[0m\u001b[0mlistdir\u001b[0m\u001b[0;34m(\u001b[0m\u001b[0mdirectories_dict\u001b[0m\u001b[0;34m[\u001b[0m\u001b[0;34m'validation_alien_dir'\u001b[0m\u001b[0;34m]\u001b[0m\u001b[0;34m)\u001b[0m\u001b[0;34m)\u001b[0m\u001b[0;34m)\u001b[0m\u001b[0;34m\u001b[0m\u001b[0m\n\u001b[1;32m      5\u001b[0m \u001b[0mprint\u001b[0m\u001b[0;34m(\u001b[0m\u001b[0;34m'Total validation predator images:'\u001b[0m\u001b[0;34m,\u001b[0m \u001b[0mlen\u001b[0m\u001b[0;34m(\u001b[0m\u001b[0mos\u001b[0m\u001b[0;34m.\u001b[0m\u001b[0mlistdir\u001b[0m\u001b[0;34m(\u001b[0m\u001b[0mdirectories_dict\u001b[0m\u001b[0;34m[\u001b[0m\u001b[0;34m'validation_predator_dir'\u001b[0m\u001b[0;34m]\u001b[0m\u001b[0;34m)\u001b[0m\u001b[0;34m)\u001b[0m\u001b[0;34m)\u001b[0m\u001b[0;34m\u001b[0m\u001b[0m\n",
      "\u001b[0;31mKeyError\u001b[0m: 'train_alien_dir'"
     ]
    }
   ],
   "source": []
  },
  {
   "cell_type": "code",
   "execution_count": null,
   "metadata": {},
   "outputs": [],
   "source": []
  }
 ],
 "metadata": {
  "kernelspec": {
   "display_name": "Python 3",
   "language": "python",
   "name": "python3"
  },
  "language_info": {
   "codemirror_mode": {
    "name": "ipython",
    "version": 3
   },
   "file_extension": ".py",
   "mimetype": "text/x-python",
   "name": "python",
   "nbconvert_exporter": "python",
   "pygments_lexer": "ipython3",
   "version": "3.6.4"
  }
 },
 "nbformat": 4,
 "nbformat_minor": 2
}
