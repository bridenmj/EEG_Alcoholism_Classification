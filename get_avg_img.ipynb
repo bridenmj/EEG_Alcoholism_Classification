{
 "cells": [
  {
   "cell_type": "code",
   "execution_count": 1,
   "metadata": {},
   "outputs": [
    {
     "data": {
      "text/plain": [
       "200"
      ]
     },
     "execution_count": 1,
     "metadata": {},
     "output_type": "execute_result"
    }
   ],
   "source": [
    "# source: https://stackoverflow.com/questions/17291455/how-to-get-an-average-picture-from-100-pictures-using-pil\n",
    "\n",
    "import os, numpy, PIL\n",
    "from PIL import Image\n",
    "\n",
    "# Access all PNG files in directory\n",
    "#allfiles=os.listdir(os.getcwd())\n",
    "imgDir = \"Data/images/alcoholic/\"\n",
    "imageName = \"AverageAlcoholic.png\"\n",
    "allfiles=os.listdir(imgDir)\n",
    "imlist=[filename for filename in allfiles if  filename[-4:] in [\".jpg\",\".JPG\"]]\n",
    "len(imlist)\n",
    "\n"
   ]
  },
  {
   "cell_type": "code",
   "execution_count": 2,
   "metadata": {},
   "outputs": [],
   "source": [
    "# Assuming all images are the same size, get dimensions of first image\n",
    "w,h=Image.open(imgDir + imlist[0]).size\n",
    "N=len(imlist)\n",
    "\n",
    "# Create a numpy array of floats to store the average (assume RGB images)\n",
    "arr=numpy.zeros((h,w,3),numpy.float)\n",
    "\n",
    "# Build up average pixel intensities, casting each image as an array of floats\n",
    "for im in imlist:\n",
    "    imarr=numpy.array(Image.open(imgDir + im),dtype=numpy.float)\n",
    "    arr=arr+imarr/N\n",
    "\n",
    "# Round values in array and cast as 8-bit integer\n",
    "arr=numpy.array(numpy.round(arr),dtype=numpy.uint8)\n",
    "\n",
    "# Generate, save and preview final image\n",
    "out=Image.fromarray(arr,mode=\"RGB\")\n",
    "out.save(imageName)\n",
    "out.show()"
   ]
  },
  {
   "cell_type": "code",
   "execution_count": null,
   "metadata": {},
   "outputs": [],
   "source": []
  }
 ],
 "metadata": {
  "kernelspec": {
   "display_name": "Python 2",
   "language": "python",
   "name": "python2"
  },
  "language_info": {
   "codemirror_mode": {
    "name": "ipython",
    "version": 2
   },
   "file_extension": ".py",
   "mimetype": "text/x-python",
   "name": "python",
   "nbconvert_exporter": "python",
   "pygments_lexer": "ipython2",
   "version": "2.7.15"
  }
 },
 "nbformat": 4,
 "nbformat_minor": 2
}
